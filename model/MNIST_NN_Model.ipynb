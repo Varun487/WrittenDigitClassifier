{
 "cells": [
  {
   "cell_type": "markdown",
   "id": "binding-visitor",
   "metadata": {},
   "source": [
    "# MNIST digit recognition Neural Network\n",
    "---"
   ]
  },
  {
   "cell_type": "markdown",
   "id": "stuck-metro",
   "metadata": {},
   "source": [
    "# 1. Imports\n",
    "---"
   ]
  },
  {
   "cell_type": "code",
   "execution_count": 1,
   "id": "proof-remedy",
   "metadata": {},
   "outputs": [],
   "source": [
    "import pandas as pd\n",
    "import matplotlib.pyplot as plt\n",
    "from keras.datasets import mnist\n",
    "from keras.models import Sequential\n",
    "from keras.utils import np_utils\n",
    "from keras.layers import Dense"
   ]
  },
  {
   "cell_type": "markdown",
   "id": "respiratory-consequence",
   "metadata": {},
   "source": [
    "# 2. Understanding the data\n",
    "---"
   ]
  },
  {
   "cell_type": "markdown",
   "id": "conventional-aging",
   "metadata": {},
   "source": [
    "## 2.1. Load the dataset and split into train and test set"
   ]
  },
  {
   "cell_type": "code",
   "execution_count": 2,
   "id": "headed-spokesman",
   "metadata": {},
   "outputs": [],
   "source": [
    "(X_train, y_train), (X_test, y_test) = mnist.load_data()"
   ]
  },
  {
   "cell_type": "markdown",
   "id": "prerequisite-balloon",
   "metadata": {},
   "source": [
    "## 2.2. Data visualization"
   ]
  },
  {
   "cell_type": "code",
   "execution_count": 3,
   "id": "distinguished-connection",
   "metadata": {},
   "outputs": [
    {
     "data": {
      "text/plain": [
       "(60000, 28, 28)"
      ]
     },
     "execution_count": 3,
     "metadata": {},
     "output_type": "execute_result"
    }
   ],
   "source": [
    "X_train.shape"
   ]
  },
  {
   "cell_type": "markdown",
   "id": "indoor-still",
   "metadata": {},
   "source": [
    "- 60,000 training images\n",
    "- Each image is 28 x 28 pixels"
   ]
  },
  {
   "cell_type": "code",
   "execution_count": 4,
   "id": "associate-result",
   "metadata": {},
   "outputs": [
    {
     "data": {
      "text/plain": [
       "(60000,)"
      ]
     },
     "execution_count": 4,
     "metadata": {},
     "output_type": "execute_result"
    }
   ],
   "source": [
    "y_train.shape"
   ]
  },
  {
   "cell_type": "markdown",
   "id": "victorian-storm",
   "metadata": {},
   "source": [
    "- 60,000 arrays\n",
    "- Each of size 10 (from 0-9)\n",
    "- For example, 1 is represented as [0.0, 1.0, 0.0, 0.0, 0.0, 0.0, 0.0, 0.0, 0.0, 0.0]"
   ]
  },
  {
   "cell_type": "code",
   "execution_count": 5,
   "id": "nonprofit-bearing",
   "metadata": {},
   "outputs": [
    {
     "data": {
      "text/plain": [
       "(10000, 28, 28)"
      ]
     },
     "execution_count": 5,
     "metadata": {},
     "output_type": "execute_result"
    }
   ],
   "source": [
    "X_test.shape"
   ]
  },
  {
   "cell_type": "markdown",
   "id": "driving-details",
   "metadata": {},
   "source": [
    "- 10,000 test images\n",
    "- Each image is 28 x 28 pixels"
   ]
  },
  {
   "cell_type": "code",
   "execution_count": 6,
   "id": "bored-iceland",
   "metadata": {},
   "outputs": [
    {
     "data": {
      "text/plain": [
       "(10000,)"
      ]
     },
     "execution_count": 6,
     "metadata": {},
     "output_type": "execute_result"
    }
   ],
   "source": [
    "y_test.shape"
   ]
  },
  {
   "cell_type": "markdown",
   "id": "subtle-assumption",
   "metadata": {},
   "source": [
    "- 10,000 arrays similar to __y_train__"
   ]
  },
  {
   "cell_type": "markdown",
   "id": "above-academy",
   "metadata": {},
   "source": [
    "## 2.3. Images"
   ]
  },
  {
   "cell_type": "code",
   "execution_count": 7,
   "id": "earlier-hamburg",
   "metadata": {},
   "outputs": [
    {
     "data": {
      "text/plain": [
       "<matplotlib.image.AxesImage at 0x7fab8a5f7d00>"
      ]
     },
     "execution_count": 7,
     "metadata": {},
     "output_type": "execute_result"
    },
    {
     "data": {
      "image/png": "[encoded data removed]",
      "text/plain": [
       "<Figure size 432x288 with 1 Axes>"
      ]
     },
     "metadata": {
      "needs_background": "light"
     },
     "output_type": "display_data"
    }
   ],
   "source": [
    "plt.imshow(X_train[0], cmap=plt.get_cmap('gray'))"
   ]
  },
  {
   "cell_type": "code",
   "execution_count": 8,
   "id": "random-function",
   "metadata": {},
   "outputs": [
    {
     "data": {
      "text/plain": [
       "<matplotlib.image.AxesImage at 0x7faba508fac0>"
      ]
     },
     "execution_count": 8,
     "metadata": {},
     "output_type": "execute_result"
    },
    {
     "data": {
      "image/png": "[encoded data removed]",
      "text/plain": [
       "<Figure size 432x288 with 1 Axes>"
      ]
     },
     "metadata": {
      "needs_background": "light"
     },
     "output_type": "display_data"
    }
   ],
   "source": [
    "plt.imshow(X_train[1], cmap=plt.get_cmap('gray'))"
   ]
  },
  {
   "cell_type": "code",
   "execution_count": 9,
   "id": "recreational-hearing",
   "metadata": {},
   "outputs": [
    {
     "data": {
      "text/plain": [
       "<matplotlib.image.AxesImage at 0x7fab824a1910>"
      ]
     },
     "execution_count": 9,
     "metadata": {},
     "output_type": "execute_result"
    },
    {
     "data": {
      "image/png": "[encoded data removed]",
      "text/plain": [
       "<Figure size 432x288 with 1 Axes>"
      ]
     },
     "metadata": {
      "needs_background": "light"
     },
     "output_type": "display_data"
    }
   ],
   "source": [
    "plt.imshow(X_train[2], cmap=plt.get_cmap('gray'))"
   ]
  },
  {
   "cell_type": "markdown",
   "id": "sorted-norfolk",
   "metadata": {},
   "source": [
    "# 3. Data manipulation\n",
    "---"
   ]
  },
  {
   "cell_type": "markdown",
   "id": "narrow-burns",
   "metadata": {},
   "source": [
    "## 3.1. Flatten 28 X 28 images into a 1 X 784 vector for each image"
   ]
  },
  {
   "cell_type": "code",
   "execution_count": 10,
   "id": "solved-marks",
   "metadata": {},
   "outputs": [
    {
     "data": {
      "text/plain": [
       "(60000, 784)"
      ]
     },
     "execution_count": 10,
     "metadata": {},
     "output_type": "execute_result"
    }
   ],
   "source": [
    "# X_train = X_train.reshape((X_train.shape[0], 28, 28, 1)).astype('float32')\n",
    "# X_test = X_test.reshape((X_test.shape[0], 28, 28, 1)).astype('float32')\n",
    "X_train = X_train.reshape((60000, 784))\n",
    "X_train.shape"
   ]
  },
  {
   "cell_type": "code",
   "execution_count": 11,
   "id": "directed-riverside",
   "metadata": {},
   "outputs": [
    {
     "data": {
      "text/plain": [
       "(10000, 784)"
      ]
     },
     "execution_count": 11,
     "metadata": {},
     "output_type": "execute_result"
    }
   ],
   "source": [
    "X_test = X_test.reshape((10000, 784))\n",
    "X_test.shape"
   ]
  },
  {
   "cell_type": "code",
   "execution_count": 12,
   "id": "visible-arnold",
   "metadata": {},
   "outputs": [
    {
     "data": {
      "text/plain": [
       "(60000,)"
      ]
     },
     "execution_count": 12,
     "metadata": {},
     "output_type": "execute_result"
    }
   ],
   "source": [
    "y_train.shape"
   ]
  },
  {
   "cell_type": "code",
   "execution_count": 13,
   "id": "liable-bandwidth",
   "metadata": {},
   "outputs": [
    {
     "data": {
      "text/plain": [
       "(10000,)"
      ]
     },
     "execution_count": 13,
     "metadata": {},
     "output_type": "execute_result"
    }
   ],
   "source": [
    "y_test.shape"
   ]
  },
  {
   "cell_type": "markdown",
   "id": "organic-vermont",
   "metadata": {},
   "source": [
    "- y_train and y_test are of the required shape and don't need to be changed."
   ]
  },
  {
   "cell_type": "markdown",
   "id": "religious-yemen",
   "metadata": {},
   "source": [
    "## 3.2. Normalize inputs from 0-255 in images to 0-1"
   ]
  },
  {
   "cell_type": "code",
   "execution_count": 14,
   "id": "alien-software",
   "metadata": {},
   "outputs": [],
   "source": [
    "X_train = X_train / 255\n",
    "X_test = X_test / 255"
   ]
  },
  {
   "cell_type": "markdown",
   "id": "sudden-surname",
   "metadata": {},
   "source": [
    "## 3.3. One hot encode outputs"
   ]
  },
  {
   "cell_type": "code",
   "execution_count": 15,
   "id": "chief-bruce",
   "metadata": {},
   "outputs": [],
   "source": [
    "y_train = np_utils.to_categorical(y_train)\n",
    "y_test = np_utils.to_categorical(y_test)"
   ]
  },
  {
   "cell_type": "markdown",
   "id": "great-boutique",
   "metadata": {},
   "source": [
    "# 4. Build the model\n",
    "---"
   ]
  },
  {
   "cell_type": "markdown",
   "id": "super-arthur",
   "metadata": {},
   "source": [
    "## 4.1. Define model type (Neural Network)"
   ]
  },
  {
   "cell_type": "code",
   "execution_count": 16,
   "id": "corrected-weight",
   "metadata": {},
   "outputs": [],
   "source": [
    "model = Sequential()"
   ]
  },
  {
   "cell_type": "markdown",
   "id": "short-accident",
   "metadata": {},
   "source": [
    "## 4.2. Define architecture"
   ]
  },
  {
   "cell_type": "code",
   "execution_count": 17,
   "id": "capable-procedure",
   "metadata": {},
   "outputs": [],
   "source": [
    "model.add(Dense(784, activation='relu'))\n",
    "model.add(Dense(10, activation='relu'))\n",
    "model.add(Dense(10, activation='softmax'))"
   ]
  },
  {
   "cell_type": "markdown",
   "id": "gross-anniversary",
   "metadata": {},
   "source": [
    "This is a dense nueral network with architecture:\n",
    "\n",
    "| Layer | Activation function   | Neurons |\n",
    "| ---   | ---          | ---     |\n",
    "|  1    | ReLU         | 784     |\n",
    "|  2    | ReLU         | 10      |\n",
    "|  3    | Softmax      | 10      |"
   ]
  },
  {
   "cell_type": "markdown",
   "id": "improving-minute",
   "metadata": {},
   "source": [
    "## 4.3 Compile model"
   ]
  },
  {
   "cell_type": "code",
   "execution_count": 18,
   "id": "impressive-reaction",
   "metadata": {},
   "outputs": [],
   "source": [
    "model.compile(loss='categorical_crossentropy', optimizer='adam', metrics=['accuracy'])"
   ]
  },
  {
   "cell_type": "markdown",
   "id": "incorporated-correlation",
   "metadata": {},
   "source": [
    "## 4.4. Training model"
   ]
  },
  {
   "cell_type": "code",
   "execution_count": 19,
   "id": "buried-promotion",
   "metadata": {},
   "outputs": [
    {
     "name": "stdout",
     "output_type": "stream",
     "text": [
      "Epoch 1/30\n",
      "300/300 - 2s - loss: 0.4241 - accuracy: 0.8706 - val_loss: 0.1698 - val_accuracy: 0.9487\n",
      "Epoch 2/30\n",
      "300/300 - 2s - loss: 0.1324 - accuracy: 0.9619 - val_loss: 0.1176 - val_accuracy: 0.9662\n",
      "Epoch 3/30\n",
      "300/300 - 2s - loss: 0.0876 - accuracy: 0.9752 - val_loss: 0.1005 - val_accuracy: 0.9703\n",
      "Epoch 4/30\n",
      "300/300 - 2s - loss: 0.0625 - accuracy: 0.9817 - val_loss: 0.0811 - val_accuracy: 0.9753\n",
      "Epoch 5/30\n",
      "300/300 - 2s - loss: 0.0478 - accuracy: 0.9860 - val_loss: 0.0748 - val_accuracy: 0.9784\n",
      "Epoch 6/30\n",
      "300/300 - 2s - loss: 0.0360 - accuracy: 0.9898 - val_loss: 0.0737 - val_accuracy: 0.9801\n",
      "Epoch 7/30\n",
      "300/300 - 2s - loss: 0.0269 - accuracy: 0.9930 - val_loss: 0.0707 - val_accuracy: 0.9801\n",
      "Epoch 8/30\n",
      "300/300 - 2s - loss: 0.0203 - accuracy: 0.9947 - val_loss: 0.0703 - val_accuracy: 0.9810\n",
      "Epoch 9/30\n",
      "300/300 - 2s - loss: 0.0157 - accuracy: 0.9958 - val_loss: 0.0760 - val_accuracy: 0.9783\n",
      "Epoch 10/30\n",
      "300/300 - 2s - loss: 0.0132 - accuracy: 0.9967 - val_loss: 0.0861 - val_accuracy: 0.9769\n",
      "Epoch 11/30\n",
      "300/300 - 2s - loss: 0.0100 - accuracy: 0.9976 - val_loss: 0.0756 - val_accuracy: 0.9792\n",
      "Epoch 12/30\n",
      "300/300 - 2s - loss: 0.0074 - accuracy: 0.9985 - val_loss: 0.0770 - val_accuracy: 0.9795\n",
      "Epoch 13/30\n",
      "300/300 - 2s - loss: 0.0059 - accuracy: 0.9987 - val_loss: 0.0878 - val_accuracy: 0.9774\n",
      "Epoch 14/30\n",
      "300/300 - 2s - loss: 0.0078 - accuracy: 0.9980 - val_loss: 0.0913 - val_accuracy: 0.9791\n",
      "Epoch 15/30\n",
      "300/300 - 2s - loss: 0.0109 - accuracy: 0.9967 - val_loss: 0.1055 - val_accuracy: 0.9739\n",
      "Epoch 16/30\n",
      "300/300 - 2s - loss: 0.0062 - accuracy: 0.9984 - val_loss: 0.0879 - val_accuracy: 0.9796\n",
      "Epoch 17/30\n",
      "300/300 - 2s - loss: 0.0053 - accuracy: 0.9985 - val_loss: 0.0923 - val_accuracy: 0.9788\n",
      "Epoch 18/30\n",
      "300/300 - 2s - loss: 0.0033 - accuracy: 0.9992 - val_loss: 0.0833 - val_accuracy: 0.9813\n",
      "Epoch 19/30\n",
      "300/300 - 2s - loss: 8.4615e-04 - accuracy: 1.0000 - val_loss: 0.0830 - val_accuracy: 0.9826\n",
      "Epoch 20/30\n",
      "300/300 - 2s - loss: 3.8904e-04 - accuracy: 1.0000 - val_loss: 0.0846 - val_accuracy: 0.9820\n",
      "Epoch 21/30\n",
      "300/300 - 2s - loss: 2.9610e-04 - accuracy: 1.0000 - val_loss: 0.0868 - val_accuracy: 0.9816\n",
      "Epoch 22/30\n",
      "300/300 - 2s - loss: 2.5191e-04 - accuracy: 1.0000 - val_loss: 0.0869 - val_accuracy: 0.9816\n",
      "Epoch 23/30\n",
      "300/300 - 2s - loss: 2.1611e-04 - accuracy: 1.0000 - val_loss: 0.0884 - val_accuracy: 0.9818\n",
      "Epoch 24/30\n",
      "300/300 - 2s - loss: 1.8979e-04 - accuracy: 1.0000 - val_loss: 0.0892 - val_accuracy: 0.9823\n",
      "Epoch 25/30\n",
      "300/300 - 2s - loss: 1.6380e-04 - accuracy: 1.0000 - val_loss: 0.0904 - val_accuracy: 0.9819\n",
      "Epoch 26/30\n",
      "300/300 - 2s - loss: 1.4503e-04 - accuracy: 1.0000 - val_loss: 0.0902 - val_accuracy: 0.9830\n",
      "Epoch 27/30\n",
      "300/300 - 2s - loss: 1.2713e-04 - accuracy: 1.0000 - val_loss: 0.0929 - val_accuracy: 0.9816\n",
      "Epoch 28/30\n",
      "300/300 - 2s - loss: 1.0971e-04 - accuracy: 1.0000 - val_loss: 0.0926 - val_accuracy: 0.9822\n",
      "Epoch 29/30\n",
      "300/300 - 2s - loss: 1.0372e-04 - accuracy: 1.0000 - val_loss: 0.0931 - val_accuracy: 0.9823\n",
      "Epoch 30/30\n",
      "300/300 - 2s - loss: 8.4501e-05 - accuracy: 1.0000 - val_loss: 0.0950 - val_accuracy: 0.9815\n"
     ]
    },
    {
     "data": {
      "text/plain": [
       "<tensorflow.python.keras.callbacks.History at 0x7fab8a997b50>"
      ]
     },
     "execution_count": 19,
     "metadata": {},
     "output_type": "execute_result"
    }
   ],
   "source": [
    "model.fit(X_train, y_train, validation_data=(X_test, y_test), epochs=30, batch_size=200, verbose=2)"
   ]
  },
  {
   "cell_type": "markdown",
   "id": "stuffed-standard",
   "metadata": {},
   "source": [
    "## 4.5. Evaluate the model"
   ]
  },
  {
   "cell_type": "code",
   "execution_count": 20,
   "id": "cardiovascular-armor",
   "metadata": {},
   "outputs": [
    {
     "name": "stdout",
     "output_type": "stream",
     "text": [
      "Test loss:  0.09502233564853668\n",
      "Test Accuracy:  0.9815000295639038\n",
      "Baseline Error:  1.8499970436096191\n"
     ]
    }
   ],
   "source": [
    "scores = model.evaluate(X_test, y_test, verbose=0)\n",
    "print(\"Test loss: \", scores[0])\n",
    "print(\"Test Accuracy: \", (scores[1]))\n",
    "print(\"Baseline Error: \", (100-scores[1]*100))"
   ]
  },
  {
   "cell_type": "markdown",
   "id": "continued-desktop",
   "metadata": {},
   "source": [
    "## 4.6. Save the model in a h5 file"
   ]
  },
  {
   "cell_type": "code",
   "execution_count": 21,
   "id": "established-criticism",
   "metadata": {},
   "outputs": [],
   "source": [
    "model.save(\"model.h5\")"
   ]
  },
  {
   "cell_type": "markdown",
   "id": "compliant-outline",
   "metadata": {},
   "source": [
    "# 5. Convert the model to a web friendly format\n",
    "---"
   ]
  },
  {
   "cell_type": "code",
   "execution_count": 22,
   "id": "excessive-current",
   "metadata": {},
   "outputs": [
    {
     "name": "stdout",
     "output_type": "stream",
     "text": [
      "2021-03-21 17:58:11.637568: W tensorflow/stream_executor/platform/default/dso_loader.cc:60] Could not load dynamic library 'libcudart.so.11.0'; dlerror: libcudart.so.11.0: cannot open shared object file: No such file or directory\r\n",
      "2021-03-21 17:58:11.637600: I tensorflow/stream_executor/cuda/cudart_stub.cc:29] Ignore above cudart dlerror if you do not have a GPU set up on your machine.\r\n"
     ]
    }
   ],
   "source": [
    "!tensorflowjs_converter --input_format keras './model.h5' '../UI/model'"
   ]
  },
  {
   "cell_type": "markdown",
   "id": "magnetic-contract",
   "metadata": {},
   "source": [
    "- Uses tensorflowjs to convert the model to a format which can run on the browser\n",
    "- Allows to run the model on a single page web app without a backend"
   ]
  }
 ],
 "metadata": {
  "kernelspec": {
   "display_name": "Python 3",
   "language": "python",
   "name": "python3"
  },
  "language_info": {
   "codemirror_mode": {
    "name": "ipython",
    "version": 3
   },
   "file_extension": ".py",
   "mimetype": "text/x-python",
   "name": "python",
   "nbconvert_exporter": "python",
   "pygments_lexer": "ipython3",
   "version": "3.8.5"
  }
 },
 "nbformat": 4,
 "nbformat_minor": 5
}
